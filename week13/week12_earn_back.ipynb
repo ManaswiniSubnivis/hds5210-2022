{
 "cells": [
  {
   "cell_type": "markdown",
   "metadata": {},
   "source": [
    "# Week 12 - Earn-Back Points Assignment #2\n",
    "\n",
    "These exercises are entirely optional, but they provide good practice. And you can use them to earn extra points toward your semester grade.  Completing all the questions in this assignment correctly will earn you back 8 points.\n",
    "\n",
    "There will be 2 more assignments like this between now and the end of the semester, giving you the opportunity to earn back a total of 32 points.\n",
    "\n",
    "**If anything about the above rules is unclear, please message me on Canvas or via email**"
   ]
  },
  {
   "cell_type": "markdown",
   "metadata": {},
   "source": [
    "---"
   ]
  },
  {
   "cell_type": "markdown",
   "metadata": {},
   "source": [
    "## Introduction\n",
    "\n",
    "The Centers for Medicare and Medicaid Services (CMS) provides lots of information online including a general directory of hospitals in the US. For this set of exercises, we'll be working with a file referred to as [Hospital General Information](https://data.cms.gov/provider-data/dataset/xubh-q36u). **Download this file as a CSV and upload it to your week 13 directory on Jupyter.**\n",
    "\n",
    "Each of these exercises will involve finding an answer to a specific question and then submitting that.  Your answers must be computed using Python code within this notebook to earn full credit.\n",
    "\n",
    "You do not need to write functions to compute the answers and do not need to provide any special documentation. You can simply calculate the answers inline in the notebook and then submit your answers using the `answers` dictionary, similar to how most of our part 1 assignments work.\n"
   ]
  },
  {
   "cell_type": "code",
   "execution_count": 36,
   "metadata": {},
   "outputs": [],
   "source": [
    "import pandas as pd\n",
    "answers = {}\n",
    "data = pd.read_csv('Hospital_General_Information.csv')"
   ]
  },
  {
   "cell_type": "code",
   "execution_count": 37,
   "metadata": {},
   "outputs": [
    {
     "data": {
      "text/html": [
       "<div>\n",
       "<style scoped>\n",
       "    .dataframe tbody tr th:only-of-type {\n",
       "        vertical-align: middle;\n",
       "    }\n",
       "\n",
       "    .dataframe tbody tr th {\n",
       "        vertical-align: top;\n",
       "    }\n",
       "\n",
       "    .dataframe thead th {\n",
       "        text-align: right;\n",
       "    }\n",
       "</style>\n",
       "<table border=\"1\" class=\"dataframe\">\n",
       "  <thead>\n",
       "    <tr style=\"text-align: right;\">\n",
       "      <th></th>\n",
       "      <th>Facility ID</th>\n",
       "      <th>Facility Name</th>\n",
       "      <th>Address</th>\n",
       "      <th>City</th>\n",
       "      <th>State</th>\n",
       "      <th>ZIP Code</th>\n",
       "      <th>County Name</th>\n",
       "      <th>Phone Number</th>\n",
       "      <th>Hospital Type</th>\n",
       "      <th>Hospital Ownership</th>\n",
       "      <th>...</th>\n",
       "      <th>Count of READM Measures Better</th>\n",
       "      <th>Count of READM Measures No Different</th>\n",
       "      <th>Count of READM Measures Worse</th>\n",
       "      <th>READM Group Footnote</th>\n",
       "      <th>Pt Exp Group Measure Count</th>\n",
       "      <th>Count of Facility Pt Exp Measures</th>\n",
       "      <th>Pt Exp Group Footnote</th>\n",
       "      <th>TE Group Measure Count</th>\n",
       "      <th>Count of Facility TE Measures</th>\n",
       "      <th>TE Group Footnote</th>\n",
       "    </tr>\n",
       "  </thead>\n",
       "  <tbody>\n",
       "    <tr>\n",
       "      <th>0</th>\n",
       "      <td>010001</td>\n",
       "      <td>SOUTHEAST HEALTH MEDICAL CENTER</td>\n",
       "      <td>1108 ROSS CLARK CIRCLE</td>\n",
       "      <td>DOTHAN</td>\n",
       "      <td>AL</td>\n",
       "      <td>36301</td>\n",
       "      <td>HOUSTON</td>\n",
       "      <td>(334) 793-8701</td>\n",
       "      <td>Acute Care Hospitals</td>\n",
       "      <td>Government - Hospital District or Authority</td>\n",
       "      <td>...</td>\n",
       "      <td>0</td>\n",
       "      <td>10</td>\n",
       "      <td>1</td>\n",
       "      <td>NaN</td>\n",
       "      <td>8</td>\n",
       "      <td>8</td>\n",
       "      <td>NaN</td>\n",
       "      <td>12</td>\n",
       "      <td>9</td>\n",
       "      <td>NaN</td>\n",
       "    </tr>\n",
       "    <tr>\n",
       "      <th>1</th>\n",
       "      <td>010005</td>\n",
       "      <td>MARSHALL MEDICAL CENTERS</td>\n",
       "      <td>2505 U S HIGHWAY 431 NORTH</td>\n",
       "      <td>BOAZ</td>\n",
       "      <td>AL</td>\n",
       "      <td>35957</td>\n",
       "      <td>MARSHALL</td>\n",
       "      <td>(256) 593-8310</td>\n",
       "      <td>Acute Care Hospitals</td>\n",
       "      <td>Government - Hospital District or Authority</td>\n",
       "      <td>...</td>\n",
       "      <td>0</td>\n",
       "      <td>10</td>\n",
       "      <td>0</td>\n",
       "      <td>NaN</td>\n",
       "      <td>8</td>\n",
       "      <td>8</td>\n",
       "      <td>NaN</td>\n",
       "      <td>12</td>\n",
       "      <td>11</td>\n",
       "      <td>NaN</td>\n",
       "    </tr>\n",
       "    <tr>\n",
       "      <th>2</th>\n",
       "      <td>010006</td>\n",
       "      <td>NORTH ALABAMA MEDICAL CENTER</td>\n",
       "      <td>1701 VETERANS DRIVE</td>\n",
       "      <td>FLORENCE</td>\n",
       "      <td>AL</td>\n",
       "      <td>35630</td>\n",
       "      <td>LAUDERDALE</td>\n",
       "      <td>(256) 768-8400</td>\n",
       "      <td>Acute Care Hospitals</td>\n",
       "      <td>Proprietary</td>\n",
       "      <td>...</td>\n",
       "      <td>0</td>\n",
       "      <td>8</td>\n",
       "      <td>1</td>\n",
       "      <td>NaN</td>\n",
       "      <td>8</td>\n",
       "      <td>8</td>\n",
       "      <td>NaN</td>\n",
       "      <td>12</td>\n",
       "      <td>9</td>\n",
       "      <td>NaN</td>\n",
       "    </tr>\n",
       "    <tr>\n",
       "      <th>3</th>\n",
       "      <td>010007</td>\n",
       "      <td>MIZELL MEMORIAL HOSPITAL</td>\n",
       "      <td>702 N MAIN ST</td>\n",
       "      <td>OPP</td>\n",
       "      <td>AL</td>\n",
       "      <td>36467</td>\n",
       "      <td>COVINGTON</td>\n",
       "      <td>(334) 493-3541</td>\n",
       "      <td>Acute Care Hospitals</td>\n",
       "      <td>Voluntary non-profit - Private</td>\n",
       "      <td>...</td>\n",
       "      <td>0</td>\n",
       "      <td>6</td>\n",
       "      <td>0</td>\n",
       "      <td>NaN</td>\n",
       "      <td>8</td>\n",
       "      <td>8</td>\n",
       "      <td>NaN</td>\n",
       "      <td>12</td>\n",
       "      <td>5</td>\n",
       "      <td>NaN</td>\n",
       "    </tr>\n",
       "    <tr>\n",
       "      <th>4</th>\n",
       "      <td>010008</td>\n",
       "      <td>CRENSHAW COMMUNITY HOSPITAL</td>\n",
       "      <td>101 HOSPITAL CIRCLE</td>\n",
       "      <td>LUVERNE</td>\n",
       "      <td>AL</td>\n",
       "      <td>36049</td>\n",
       "      <td>CRENSHAW</td>\n",
       "      <td>(334) 335-3374</td>\n",
       "      <td>Acute Care Hospitals</td>\n",
       "      <td>Proprietary</td>\n",
       "      <td>...</td>\n",
       "      <td>0</td>\n",
       "      <td>4</td>\n",
       "      <td>0</td>\n",
       "      <td>NaN</td>\n",
       "      <td>8</td>\n",
       "      <td>Not Available</td>\n",
       "      <td>5</td>\n",
       "      <td>12</td>\n",
       "      <td>5</td>\n",
       "      <td>NaN</td>\n",
       "    </tr>\n",
       "    <tr>\n",
       "      <th>...</th>\n",
       "      <td>...</td>\n",
       "      <td>...</td>\n",
       "      <td>...</td>\n",
       "      <td>...</td>\n",
       "      <td>...</td>\n",
       "      <td>...</td>\n",
       "      <td>...</td>\n",
       "      <td>...</td>\n",
       "      <td>...</td>\n",
       "      <td>...</td>\n",
       "      <td>...</td>\n",
       "      <td>...</td>\n",
       "      <td>...</td>\n",
       "      <td>...</td>\n",
       "      <td>...</td>\n",
       "      <td>...</td>\n",
       "      <td>...</td>\n",
       "      <td>...</td>\n",
       "      <td>...</td>\n",
       "      <td>...</td>\n",
       "      <td>...</td>\n",
       "    </tr>\n",
       "    <tr>\n",
       "      <th>5302</th>\n",
       "      <td>670285</td>\n",
       "      <td>KINGWOOD EMERGENCY HOSPITAL</td>\n",
       "      <td>23330 HIGHWAY 59 N</td>\n",
       "      <td>KINGWOOD</td>\n",
       "      <td>TX</td>\n",
       "      <td>77339</td>\n",
       "      <td>HARRIS</td>\n",
       "      <td>(832) 777-6165</td>\n",
       "      <td>Acute Care Hospitals</td>\n",
       "      <td>Physician</td>\n",
       "      <td>...</td>\n",
       "      <td>Not Available</td>\n",
       "      <td>Not Available</td>\n",
       "      <td>Not Available</td>\n",
       "      <td>5</td>\n",
       "      <td>8</td>\n",
       "      <td>Not Available</td>\n",
       "      <td>5</td>\n",
       "      <td>12</td>\n",
       "      <td>Not Available</td>\n",
       "      <td>5</td>\n",
       "    </tr>\n",
       "    <tr>\n",
       "      <th>5303</th>\n",
       "      <td>670300</td>\n",
       "      <td>METHODIST MIDLOTHIAN MEDICAL CENTER</td>\n",
       "      <td>1201 E HIGHWAY 287</td>\n",
       "      <td>MIDLOTHIAN</td>\n",
       "      <td>TX</td>\n",
       "      <td>76065</td>\n",
       "      <td>ELLIS</td>\n",
       "      <td>(469) 846-2000</td>\n",
       "      <td>Acute Care Hospitals</td>\n",
       "      <td>Voluntary non-profit - Private</td>\n",
       "      <td>...</td>\n",
       "      <td>Not Available</td>\n",
       "      <td>Not Available</td>\n",
       "      <td>Not Available</td>\n",
       "      <td>5</td>\n",
       "      <td>8</td>\n",
       "      <td>Not Available</td>\n",
       "      <td>5</td>\n",
       "      <td>12</td>\n",
       "      <td>Not Available</td>\n",
       "      <td>5</td>\n",
       "    </tr>\n",
       "    <tr>\n",
       "      <th>5304</th>\n",
       "      <td>670309</td>\n",
       "      <td>TEXAS HEALTH HOSPITAL MANSFIELD</td>\n",
       "      <td>2300 LONE STAR ROAD</td>\n",
       "      <td>MANSFIELD</td>\n",
       "      <td>TX</td>\n",
       "      <td>76063</td>\n",
       "      <td>TARRANT</td>\n",
       "      <td>(682) 341-5000</td>\n",
       "      <td>Acute Care Hospitals</td>\n",
       "      <td>Proprietary</td>\n",
       "      <td>...</td>\n",
       "      <td>Not Available</td>\n",
       "      <td>Not Available</td>\n",
       "      <td>Not Available</td>\n",
       "      <td>5</td>\n",
       "      <td>8</td>\n",
       "      <td>Not Available</td>\n",
       "      <td>5</td>\n",
       "      <td>12</td>\n",
       "      <td>Not Available</td>\n",
       "      <td>5</td>\n",
       "    </tr>\n",
       "    <tr>\n",
       "      <th>5305</th>\n",
       "      <td>670310</td>\n",
       "      <td>SE TEXAS ER &amp; HOSPITAL</td>\n",
       "      <td>19211 MCKAY BLVD</td>\n",
       "      <td>HUMBLE</td>\n",
       "      <td>TX</td>\n",
       "      <td>77338</td>\n",
       "      <td>HARRIS</td>\n",
       "      <td>(704) 887-7283</td>\n",
       "      <td>Acute Care Hospitals</td>\n",
       "      <td>Physician</td>\n",
       "      <td>...</td>\n",
       "      <td>Not Available</td>\n",
       "      <td>Not Available</td>\n",
       "      <td>Not Available</td>\n",
       "      <td>5</td>\n",
       "      <td>Not Available</td>\n",
       "      <td>Not Available</td>\n",
       "      <td>5</td>\n",
       "      <td>Not Available</td>\n",
       "      <td>Not Available</td>\n",
       "      <td>5</td>\n",
       "    </tr>\n",
       "    <tr>\n",
       "      <th>5306</th>\n",
       "      <td>670314</td>\n",
       "      <td>ST MICHAELS MEDICAL HOSPITAL LLC</td>\n",
       "      <td>16000 SOUTHWEST FREEWAY, SUITE 100</td>\n",
       "      <td>SUGAR LAND</td>\n",
       "      <td>TX</td>\n",
       "      <td>77479</td>\n",
       "      <td>FORT BEND</td>\n",
       "      <td>(281) 980-4357</td>\n",
       "      <td>Acute Care Hospitals</td>\n",
       "      <td>Proprietary</td>\n",
       "      <td>...</td>\n",
       "      <td>Not Available</td>\n",
       "      <td>Not Available</td>\n",
       "      <td>Not Available</td>\n",
       "      <td>5</td>\n",
       "      <td>8</td>\n",
       "      <td>Not Available</td>\n",
       "      <td>5</td>\n",
       "      <td>12</td>\n",
       "      <td>Not Available</td>\n",
       "      <td>5</td>\n",
       "    </tr>\n",
       "  </tbody>\n",
       "</table>\n",
       "<p>5307 rows × 38 columns</p>\n",
       "</div>"
      ],
      "text/plain": [
       "     Facility ID                        Facility Name  \\\n",
       "0         010001      SOUTHEAST HEALTH MEDICAL CENTER   \n",
       "1         010005             MARSHALL MEDICAL CENTERS   \n",
       "2         010006         NORTH ALABAMA MEDICAL CENTER   \n",
       "3         010007             MIZELL MEMORIAL HOSPITAL   \n",
       "4         010008          CRENSHAW COMMUNITY HOSPITAL   \n",
       "...          ...                                  ...   \n",
       "5302      670285          KINGWOOD EMERGENCY HOSPITAL   \n",
       "5303      670300  METHODIST MIDLOTHIAN MEDICAL CENTER   \n",
       "5304      670309      TEXAS HEALTH HOSPITAL MANSFIELD   \n",
       "5305      670310               SE TEXAS ER & HOSPITAL   \n",
       "5306      670314     ST MICHAELS MEDICAL HOSPITAL LLC   \n",
       "\n",
       "                                 Address        City State  ZIP Code  \\\n",
       "0                 1108 ROSS CLARK CIRCLE      DOTHAN    AL     36301   \n",
       "1             2505 U S HIGHWAY 431 NORTH        BOAZ    AL     35957   \n",
       "2                    1701 VETERANS DRIVE    FLORENCE    AL     35630   \n",
       "3                          702 N MAIN ST         OPP    AL     36467   \n",
       "4                    101 HOSPITAL CIRCLE     LUVERNE    AL     36049   \n",
       "...                                  ...         ...   ...       ...   \n",
       "5302                  23330 HIGHWAY 59 N    KINGWOOD    TX     77339   \n",
       "5303                  1201 E HIGHWAY 287  MIDLOTHIAN    TX     76065   \n",
       "5304                 2300 LONE STAR ROAD   MANSFIELD    TX     76063   \n",
       "5305                    19211 MCKAY BLVD      HUMBLE    TX     77338   \n",
       "5306  16000 SOUTHWEST FREEWAY, SUITE 100  SUGAR LAND    TX     77479   \n",
       "\n",
       "     County Name    Phone Number         Hospital Type  \\\n",
       "0        HOUSTON  (334) 793-8701  Acute Care Hospitals   \n",
       "1       MARSHALL  (256) 593-8310  Acute Care Hospitals   \n",
       "2     LAUDERDALE  (256) 768-8400  Acute Care Hospitals   \n",
       "3      COVINGTON  (334) 493-3541  Acute Care Hospitals   \n",
       "4       CRENSHAW  (334) 335-3374  Acute Care Hospitals   \n",
       "...          ...             ...                   ...   \n",
       "5302      HARRIS  (832) 777-6165  Acute Care Hospitals   \n",
       "5303       ELLIS  (469) 846-2000  Acute Care Hospitals   \n",
       "5304     TARRANT  (682) 341-5000  Acute Care Hospitals   \n",
       "5305      HARRIS  (704) 887-7283  Acute Care Hospitals   \n",
       "5306   FORT BEND  (281) 980-4357  Acute Care Hospitals   \n",
       "\n",
       "                               Hospital Ownership  ...  \\\n",
       "0     Government - Hospital District or Authority  ...   \n",
       "1     Government - Hospital District or Authority  ...   \n",
       "2                                     Proprietary  ...   \n",
       "3                  Voluntary non-profit - Private  ...   \n",
       "4                                     Proprietary  ...   \n",
       "...                                           ...  ...   \n",
       "5302                                    Physician  ...   \n",
       "5303               Voluntary non-profit - Private  ...   \n",
       "5304                                  Proprietary  ...   \n",
       "5305                                    Physician  ...   \n",
       "5306                                  Proprietary  ...   \n",
       "\n",
       "     Count of READM Measures Better Count of READM Measures No Different  \\\n",
       "0                                 0                                   10   \n",
       "1                                 0                                   10   \n",
       "2                                 0                                    8   \n",
       "3                                 0                                    6   \n",
       "4                                 0                                    4   \n",
       "...                             ...                                  ...   \n",
       "5302                  Not Available                        Not Available   \n",
       "5303                  Not Available                        Not Available   \n",
       "5304                  Not Available                        Not Available   \n",
       "5305                  Not Available                        Not Available   \n",
       "5306                  Not Available                        Not Available   \n",
       "\n",
       "     Count of READM Measures Worse READM Group Footnote  \\\n",
       "0                                1                  NaN   \n",
       "1                                0                  NaN   \n",
       "2                                1                  NaN   \n",
       "3                                0                  NaN   \n",
       "4                                0                  NaN   \n",
       "...                            ...                  ...   \n",
       "5302                 Not Available                    5   \n",
       "5303                 Not Available                    5   \n",
       "5304                 Not Available                    5   \n",
       "5305                 Not Available                    5   \n",
       "5306                 Not Available                    5   \n",
       "\n",
       "     Pt Exp Group Measure Count Count of Facility Pt Exp Measures  \\\n",
       "0                             8                                 8   \n",
       "1                             8                                 8   \n",
       "2                             8                                 8   \n",
       "3                             8                                 8   \n",
       "4                             8                     Not Available   \n",
       "...                         ...                               ...   \n",
       "5302                          8                     Not Available   \n",
       "5303                          8                     Not Available   \n",
       "5304                          8                     Not Available   \n",
       "5305              Not Available                     Not Available   \n",
       "5306                          8                     Not Available   \n",
       "\n",
       "     Pt Exp Group Footnote TE Group Measure Count  \\\n",
       "0                      NaN                     12   \n",
       "1                      NaN                     12   \n",
       "2                      NaN                     12   \n",
       "3                      NaN                     12   \n",
       "4                        5                     12   \n",
       "...                    ...                    ...   \n",
       "5302                     5                     12   \n",
       "5303                     5                     12   \n",
       "5304                     5                     12   \n",
       "5305                     5          Not Available   \n",
       "5306                     5                     12   \n",
       "\n",
       "     Count of Facility TE Measures TE Group Footnote  \n",
       "0                                9               NaN  \n",
       "1                               11               NaN  \n",
       "2                                9               NaN  \n",
       "3                                5               NaN  \n",
       "4                                5               NaN  \n",
       "...                            ...               ...  \n",
       "5302                 Not Available                 5  \n",
       "5303                 Not Available                 5  \n",
       "5304                 Not Available                 5  \n",
       "5305                 Not Available                 5  \n",
       "5306                 Not Available                 5  \n",
       "\n",
       "[5307 rows x 38 columns]"
      ]
     },
     "execution_count": 37,
     "metadata": {},
     "output_type": "execute_result"
    }
   ],
   "source": [
    "pd.DataFrame(data)"
   ]
  },
  {
   "cell_type": "markdown",
   "metadata": {},
   "source": [
    "---"
   ]
  },
  {
   "cell_type": "markdown",
   "metadata": {},
   "source": [
    "## Tips\n",
    "\n",
    "Before you get started, I want to show you a pattern that you might find useful. In the example below, I'm going to summarize a simple data frame, determine which name occurs most often, how often that is, and what the percent of total that represents.  This can be a useful pattern in general and you should be able to apply it below."
   ]
  },
  {
   "cell_type": "code",
   "execution_count": 3,
   "metadata": {},
   "outputs": [
    {
     "data": {
      "text/html": [
       "<div>\n",
       "<style scoped>\n",
       "    .dataframe tbody tr th:only-of-type {\n",
       "        vertical-align: middle;\n",
       "    }\n",
       "\n",
       "    .dataframe tbody tr th {\n",
       "        vertical-align: top;\n",
       "    }\n",
       "\n",
       "    .dataframe thead th {\n",
       "        text-align: right;\n",
       "    }\n",
       "</style>\n",
       "<table border=\"1\" class=\"dataframe\">\n",
       "  <thead>\n",
       "    <tr style=\"text-align: right;\">\n",
       "      <th></th>\n",
       "      <th>Last Name</th>\n",
       "      <th>First Name</th>\n",
       "      <th>Age</th>\n",
       "    </tr>\n",
       "  </thead>\n",
       "  <tbody>\n",
       "    <tr>\n",
       "      <th>0</th>\n",
       "      <td>Boal</td>\n",
       "      <td>Paul</td>\n",
       "      <td>45</td>\n",
       "    </tr>\n",
       "    <tr>\n",
       "      <th>1</th>\n",
       "      <td>Boal</td>\n",
       "      <td>Anny</td>\n",
       "      <td>47</td>\n",
       "    </tr>\n",
       "    <tr>\n",
       "      <th>2</th>\n",
       "      <td>Boal</td>\n",
       "      <td>James</td>\n",
       "      <td>75</td>\n",
       "    </tr>\n",
       "    <tr>\n",
       "      <th>3</th>\n",
       "      <td>Lester</td>\n",
       "      <td>Sarahlynn</td>\n",
       "      <td>48</td>\n",
       "    </tr>\n",
       "    <tr>\n",
       "      <th>4</th>\n",
       "      <td>Lester</td>\n",
       "      <td>Carolynn</td>\n",
       "      <td>70</td>\n",
       "    </tr>\n",
       "  </tbody>\n",
       "</table>\n",
       "</div>"
      ],
      "text/plain": [
       "  Last Name First Name  Age\n",
       "0      Boal       Paul   45\n",
       "1      Boal       Anny   47\n",
       "2      Boal      James   75\n",
       "3    Lester  Sarahlynn   48\n",
       "4    Lester   Carolynn   70"
      ]
     },
     "execution_count": 3,
     "metadata": {},
     "output_type": "execute_result"
    }
   ],
   "source": [
    "df = pd.DataFrame([\n",
    "    ['Boal','Paul',45],\n",
    "    ['Boal','Anny',47],\n",
    "    ['Boal','James',75],\n",
    "    ['Lester','Sarahlynn',48],\n",
    "    ['Lester','Carolynn',70]\n",
    "], columns=['Last Name','First Name','Age'])\n",
    "\n",
    "df"
   ]
  },
  {
   "cell_type": "code",
   "execution_count": 4,
   "metadata": {},
   "outputs": [
    {
     "data": {
      "text/plain": [
       "Last Name\n",
       "Boal      3\n",
       "Lester    2\n",
       "Name: Last Name, dtype: int64"
      ]
     },
     "execution_count": 4,
     "metadata": {},
     "output_type": "execute_result"
    }
   ],
   "source": [
    "# Which family (based on Last Name) has the most people?\n",
    "\n",
    "# 1. Group by Last Name\n",
    "# 2. Count how many people are in each family\n",
    "# 3. Sort by value\n",
    "\n",
    "\n",
    "by_last_name = df.groupby('Last Name')\n",
    "family_count = by_last_name['Last Name'].count()\n",
    "family_sorted = family_count.sort_values(ascending=False)\n",
    "\n",
    "family_sorted"
   ]
  },
  {
   "cell_type": "code",
   "execution_count": 5,
   "metadata": {},
   "outputs": [
    {
     "data": {
      "text/plain": [
       "'Boal'"
      ]
     },
     "execution_count": 5,
     "metadata": {},
     "output_type": "execute_result"
    }
   ],
   "source": [
    "# 4. Extract the \"index\" (aka Last Name)\n",
    "# 5. Choose the first value\n",
    "\n",
    "top_family = list(family_sorted.index)[0]\n",
    "top_family"
   ]
  },
  {
   "cell_type": "code",
   "execution_count": 6,
   "metadata": {},
   "outputs": [
    {
     "data": {
      "text/plain": [
       "3"
      ]
     },
     "execution_count": 6,
     "metadata": {},
     "output_type": "execute_result"
    }
   ],
   "source": [
    "# How many members does that family have?\n",
    "\n",
    "# 6. Choose that family from the counts we already computed.\n",
    "\n",
    "family_count[top_family]"
   ]
  },
  {
   "cell_type": "code",
   "execution_count": 7,
   "metadata": {},
   "outputs": [
    {
     "data": {
      "text/plain": [
       "0.6"
      ]
     },
     "execution_count": 7,
     "metadata": {},
     "output_type": "execute_result"
    }
   ],
   "source": [
    "# What percent of total is that?\n",
    "\n",
    "# 7. Compute a total\n",
    "# 8. Compute the percent\n",
    "\n",
    "total = family_count.sum()\n",
    "pct = family_count[top_family] / total\n",
    "\n",
    "pct"
   ]
  },
  {
   "cell_type": "markdown",
   "metadata": {},
   "source": [
    "---\n",
    "\n",
    "### E12.01\n",
    "\n",
    "How many columns are there in this data frame?"
   ]
  },
  {
   "cell_type": "code",
   "execution_count": 14,
   "metadata": {},
   "outputs": [],
   "source": [
    "answers['E12.01'] = \"38\""
   ]
  },
  {
   "cell_type": "code",
   "execution_count": 38,
   "metadata": {},
   "outputs": [
    {
     "data": {
      "text/plain": [
       "38"
      ]
     },
     "execution_count": 38,
     "metadata": {},
     "output_type": "execute_result"
    }
   ],
   "source": [
    "len(df.columns)"
   ]
  },
  {
   "cell_type": "markdown",
   "metadata": {},
   "source": [
    "### E12.02\n",
    "\n",
    "How many hospitals are there in this file? (Each row is one hospital.)"
   ]
  },
  {
   "cell_type": "code",
   "execution_count": 23,
   "metadata": {},
   "outputs": [],
   "source": [
    "answers['E12.02'] = \"5307\""
   ]
  },
  {
   "cell_type": "code",
   "execution_count": 39,
   "metadata": {},
   "outputs": [
    {
     "data": {
      "text/plain": [
       "5307"
      ]
     },
     "execution_count": 39,
     "metadata": {},
     "output_type": "execute_result"
    }
   ],
   "source": [
    "len(df.index)"
   ]
  },
  {
   "cell_type": "markdown",
   "metadata": {},
   "source": [
    "### E12.03\n",
    "\n",
    "How many hospitals from Missouri (state abbreviation MO) are in this file?"
   ]
  },
  {
   "cell_type": "code",
   "execution_count": 41,
   "metadata": {},
   "outputs": [],
   "source": [
    "answers['E12.03'] = \"119\""
   ]
  },
  {
   "cell_type": "code",
   "execution_count": 40,
   "metadata": {},
   "outputs": [
    {
     "data": {
      "text/plain": [
       "119"
      ]
     },
     "execution_count": 40,
     "metadata": {},
     "output_type": "execute_result"
    }
   ],
   "source": [
    "len(df.loc[df['State'] == 'MO'])"
   ]
  },
  {
   "cell_type": "markdown",
   "metadata": {},
   "source": [
    "### E12.04\n",
    "\n",
    "How many different ZIP Codes from Misouri are represented in this file?"
   ]
  },
  {
   "cell_type": "code",
   "execution_count": 47,
   "metadata": {},
   "outputs": [],
   "source": [
    "answers['E12.04'] = \"109\""
   ]
  },
  {
   "cell_type": "code",
   "execution_count": 46,
   "metadata": {},
   "outputs": [
    {
     "data": {
      "text/plain": [
       "109"
      ]
     },
     "execution_count": 46,
     "metadata": {},
     "output_type": "execute_result"
    }
   ],
   "source": [
    "len(df.loc[df['State'] == 'MO','ZIP Code'].value_counts())"
   ]
  },
  {
   "cell_type": "markdown",
   "metadata": {},
   "source": [
    "### E12.05\n",
    "\n",
    "Which of those ZIP Codes has the most hospitals?  If it's a tie, submit your answer as a list of ZIP Codes.  Make sure your answer is submitted as a string or list of strings. Do not submit the ZIP Code values as numbers.\n"
   ]
  },
  {
   "cell_type": "code",
   "execution_count": 11,
   "metadata": {},
   "outputs": [],
   "source": [
    "answers['E12.05'] = \"\""
   ]
  },
  {
   "cell_type": "code",
   "execution_count": null,
   "metadata": {},
   "outputs": [],
   "source": []
  },
  {
   "cell_type": "markdown",
   "metadata": {},
   "source": [
    "### E12.06\n",
    "\n",
    "Which state has the most hospitals?"
   ]
  },
  {
   "cell_type": "code",
   "execution_count": 12,
   "metadata": {},
   "outputs": [],
   "source": [
    "answers['E12.06'] = \"\""
   ]
  },
  {
   "cell_type": "markdown",
   "metadata": {},
   "source": [
    "### E12.07\n",
    "\n",
    "How many different Hospital Types are there in this file?"
   ]
  },
  {
   "cell_type": "code",
   "execution_count": 13,
   "metadata": {},
   "outputs": [],
   "source": [
    "answers['E12.07'] = \"\""
   ]
  },
  {
   "cell_type": "code",
   "execution_count": 35,
   "metadata": {},
   "outputs": [],
   "source": [
    "hospital_types= df['Hospital Type'].value_counts()"
   ]
  },
  {
   "cell_type": "markdown",
   "metadata": {},
   "source": [
    "### E12.08\n",
    "\n",
    "Which Hospital Type has the greatest number of files?"
   ]
  },
  {
   "cell_type": "code",
   "execution_count": 14,
   "metadata": {},
   "outputs": [],
   "source": [
    "answers['E12.08'] = \"\""
   ]
  },
  {
   "cell_type": "markdown",
   "metadata": {},
   "source": [
    "### E12.09\n",
    "\n",
    "What percent of the total hospital count (represented as ##.##%, rounded to two decimal places) is represented in that Hospital Type?"
   ]
  },
  {
   "cell_type": "code",
   "execution_count": 15,
   "metadata": {},
   "outputs": [],
   "source": [
    "answers['E12.09'] = \"\""
   ]
  },
  {
   "cell_type": "markdown",
   "metadata": {},
   "source": [
    "### E12.10\n",
    "\n",
    "What percent of the total hospital count (represented as ##.##%, rounded to two decimal places) provide Emergency Services?"
   ]
  },
  {
   "cell_type": "code",
   "execution_count": 16,
   "metadata": {},
   "outputs": [],
   "source": [
    "answers['E12.10'] = \"\""
   ]
  },
  {
   "cell_type": "markdown",
   "metadata": {},
   "source": [
    "---\n",
    "\n",
    "Checking Your Work\n",
    "---\n",
    "\n",
    "After completing your work above and running each cell, you can check your answers by running the code below. \n",
    "\n",
    "The easiest way to do this is to use the `Kernel` -> `Restart Kernel and Run All Cells` menu option. This option restarts Python and runs every cell from top to bottom until it encounters an exception of some kind.  It will stop after running the cell below and outputing a summary of how many answers you have correct or incorrect.\n"
   ]
  },
  {
   "cell_type": "code",
   "execution_count": 17,
   "metadata": {
    "jupyter": {
     "source_hidden": true
    }
   },
   "outputs": [
    {
     "name": "stdout",
     "output_type": "stream",
     "text": [
      "     Q#                         Yours  Correct?\n",
      " E12.01                                      NO\n",
      " E12.02                                      NO\n",
      " E12.03                                      NO\n",
      " E12.04                                      NO\n",
      " E12.05                                      NO\n",
      " E12.06                                      NO\n",
      " E12.07                                      NO\n",
      " E12.08                                      NO\n",
      " E12.09                                      NO\n",
      " E12.10                                      NO\n"
     ]
    }
   ],
   "source": [
    "import getpass\n",
    "import boto3\n",
    "import json\n",
    "\n",
    "test = {\n",
    "    \"user\": getpass.getuser(),\n",
    "    \"week\": \"week12EB\",\n",
    "    \"answers\": answers\n",
    "}\n",
    "\n",
    "client = boto3.client('lambda')\n",
    "\n",
    "response = client.invoke(\n",
    "    FunctionName=\"hds5210\",\n",
    "    InvocationType=\"RequestResponse\",\n",
    "    Payload=json.dumps(test))\n",
    "\n",
    "result = json.loads(response['Payload'].read().decode('utf-8'))\n",
    "# print(result)\n",
    "\n",
    "try:\n",
    "    print('{0:>7}{1:>30}{2:>10}'.format('Q#','Yours','Correct?'))\n",
    "    for row in result.get('results'):\n",
    "        print('{0:>7}{1:>30}{2:>10}'.format(str(row[0]),str(row[1]),str(row[2])))\n",
    "except:\n",
    "    print(result)"
   ]
  },
  {
   "cell_type": "markdown",
   "metadata": {},
   "source": [
    "## Submit your work to github in your week 13 folder by 12/5 11:59 PM"
   ]
  }
 ],
 "metadata": {
  "kernelspec": {
   "display_name": "Python 3",
   "language": "python",
   "name": "python3"
  },
  "language_info": {
   "codemirror_mode": {
    "name": "ipython",
    "version": 3
   },
   "file_extension": ".py",
   "mimetype": "text/x-python",
   "name": "python",
   "nbconvert_exporter": "python",
   "pygments_lexer": "ipython3",
   "version": "3.6.7"
  }
 },
 "nbformat": 4,
 "nbformat_minor": 4
}
